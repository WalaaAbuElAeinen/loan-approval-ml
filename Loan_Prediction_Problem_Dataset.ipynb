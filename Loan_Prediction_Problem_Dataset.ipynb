{
  "nbformat": 4,
  "nbformat_minor": 0,
  "metadata": {
    "colab": {
      "provenance": []
    },
    "kernelspec": {
      "name": "python3",
      "display_name": "Python 3"
    },
    "language_info": {
      "name": "python"
    }
  },
  "cells": [
    {
      "cell_type": "code",
      "execution_count": 15,
      "metadata": {
        "id": "RPRRuQDBz_BN"
      },
      "outputs": [],
      "source": [
        "# Import libraries\n",
        "import pandas as pd\n",
        "import numpy as np\n",
        "import matplotlib.pyplot as plt\n",
        "import seaborn as sns\n",
        "from sklearn.model_selection import train_test_split\n",
        "from sklearn.preprocessing import StandardScaler\n",
        "from sklearn.impute import SimpleImputer\n",
        "from sklearn.feature_selection import SelectKBest, f_classif\n",
        "from sklearn.linear_model import LogisticRegression\n",
        "from sklearn.svm import SVC\n",
        "from sklearn.ensemble import RandomForestClassifier, GradientBoostingClassifier, VotingClassifier\n",
        "from xgboost import XGBClassifier\n",
        "from sklearn.metrics import accuracy_score, confusion_matrix, classification_report\n",
        "from sklearn.model_selection import train_test_split, cross_val_score\n",
        "from sklearn.preprocessing import StandardScaler\n",
        "from sklearn.pipeline import Pipeline\n",
        "from sklearn.metrics import (\n",
        "    accuracy_score, roc_auc_score, classification_report,\n",
        "    confusion_matrix, RocCurveDisplay\n",
        ")\n",
        "from sklearn.linear_model import LogisticRegression\n",
        "from sklearn.ensemble import RandomForestClassifier\n",
        "import joblib\n",
        "\n"
      ]
    },
    {
      "cell_type": "code",
      "source": [
        "# 1) Load dataset\n",
        "df = pd.read_csv(\"/content/train_u6lujuX_CVtuZ9i.csv\")\n",
        "print(\"Dataset loaded successfully!\")\n",
        "print(\"Shape:\", df.shape)\n",
        "df.head()\n",
        "\n",
        "# 2) Loan Status column handling\n",
        "if \"Loan_Status\" in df.columns:\n",
        "    df[\"Loan_Status\"] = df[\"Loan_Status\"].apply(lambda x: 1 if x == \"Y\" else 0)\n",
        "elif \"Loan Status\" in df.columns:\n",
        "    df[\"Loan Status\"] = df[\"Loan Status\"].apply(lambda x: 1 if x == \"Y\" else 0)\n",
        "else:\n",
        "    raise ValueError(\"No 'Loan_Status' or 'Loan Status' column found in dataset.\")\n"
      ],
      "metadata": {
        "colab": {
          "base_uri": "https://localhost:8080/"
        },
        "id": "A1N4dvg-02hQ",
        "outputId": "cc8748ef-dbdf-46e5-df74-862ea18706d9"
      },
      "execution_count": 16,
      "outputs": [
        {
          "output_type": "stream",
          "name": "stdout",
          "text": [
            "Dataset loaded successfully!\n",
            "Shape: (614, 13)\n"
          ]
        }
      ]
    },
    {
      "cell_type": "code",
      "source": [
        "# 3) Convert categorical and boolean columns\n",
        "# Drop ID if exists\n",
        "if \"id\" in df.columns:\n",
        "    df = df.drop(columns=[\"id\"])\n",
        "\n",
        "# Boolean-like columns\n",
        "for c in [\"fbs\", \"Education\"]:\n",
        "    if c in df.columns:\n",
        "        df[c] = df[c].replace({\"Graduate\": 1, \"Not Graduate\": 0})\n",
        "\n",
        "# Gender / Married\n",
        "if \"Gender\" in df.columns:\n",
        "    df[\"Gender\"] = df[\"Gender\"].replace({\"Male\": 1, \"Female\": 0, \"M\": 1, \"F\": 0})\n",
        "\n",
        "if \"Married\" in df.columns:\n",
        "    df[\"Married\"] = df[\"Married\"].replace({\"Yes\": 1, \"No\": 0})\n",
        "\n",
        "if \"Self_Employed\" in df.columns:\n",
        "    df[\"Self_Employed\"] = df[\"Self_Employed\"].replace({\"Yes\": 1, \"No\": 0})\n",
        "\n",
        "# Replace missing indicators and convert to numeric if possible\n",
        "for c in df.columns:\n",
        "    if df[c].dtype == object:\n",
        "        df[c] = df[c].replace(\"?\", np.nan)\n",
        "        try:\n",
        "            df[c] = pd.to_numeric(df[c])\n",
        "        except:\n",
        "            pass"
      ],
      "metadata": {
        "colab": {
          "base_uri": "https://localhost:8080/"
        },
        "id": "MVgs8-Wa3gkI",
        "outputId": "66b9837d-3c5b-4f8d-ce1b-df9c96d4fff4"
      },
      "execution_count": 17,
      "outputs": [
        {
          "output_type": "stream",
          "name": "stderr",
          "text": [
            "/tmp/ipython-input-46119362.py:9: FutureWarning: Downcasting behavior in `replace` is deprecated and will be removed in a future version. To retain the old behavior, explicitly call `result.infer_objects(copy=False)`. To opt-in to the future behavior, set `pd.set_option('future.no_silent_downcasting', True)`\n",
            "  df[c] = df[c].replace({\"Graduate\": 1, \"Not Graduate\": 0})\n",
            "/tmp/ipython-input-46119362.py:13: FutureWarning: Downcasting behavior in `replace` is deprecated and will be removed in a future version. To retain the old behavior, explicitly call `result.infer_objects(copy=False)`. To opt-in to the future behavior, set `pd.set_option('future.no_silent_downcasting', True)`\n",
            "  df[\"Gender\"] = df[\"Gender\"].replace({\"Male\": 1, \"Female\": 0, \"M\": 1, \"F\": 0})\n",
            "/tmp/ipython-input-46119362.py:16: FutureWarning: Downcasting behavior in `replace` is deprecated and will be removed in a future version. To retain the old behavior, explicitly call `result.infer_objects(copy=False)`. To opt-in to the future behavior, set `pd.set_option('future.no_silent_downcasting', True)`\n",
            "  df[\"Married\"] = df[\"Married\"].replace({\"Yes\": 1, \"No\": 0})\n",
            "/tmp/ipython-input-46119362.py:19: FutureWarning: Downcasting behavior in `replace` is deprecated and will be removed in a future version. To retain the old behavior, explicitly call `result.infer_objects(copy=False)`. To opt-in to the future behavior, set `pd.set_option('future.no_silent_downcasting', True)`\n",
            "  df[\"Self_Employed\"] = df[\"Self_Employed\"].replace({\"Yes\": 1, \"No\": 0})\n"
          ]
        }
      ]
    },
    {
      "cell_type": "code",
      "source": [
        "# 4) Categorical columns for one-hot encoding\n",
        "cat_cols = [c for c in [\"Property_Area\"] if c in df.columns and df[c].dtype == object]\n",
        "df = pd.get_dummies(df, columns=cat_cols, drop_first=True)\n",
        "\n",
        "print(\"First 5 rows:\\n\", df.head())\n"
      ],
      "metadata": {
        "colab": {
          "base_uri": "https://localhost:8080/"
        },
        "id": "i8mxty4Z-quI",
        "outputId": "97863412-9c53-4af4-beb5-42057e67155f"
      },
      "execution_count": 18,
      "outputs": [
        {
          "output_type": "stream",
          "name": "stdout",
          "text": [
            "First 5 rows:\n",
            "     Loan_ID  Gender  Married Dependents  Education  Self_Employed  \\\n",
            "0  LP001002     1.0      0.0          0          1            0.0   \n",
            "1  LP001003     1.0      1.0          1          1            0.0   \n",
            "2  LP001005     1.0      1.0          0          1            1.0   \n",
            "3  LP001006     1.0      1.0          0          0            0.0   \n",
            "4  LP001008     1.0      0.0          0          1            0.0   \n",
            "\n",
            "   ApplicantIncome  CoapplicantIncome  LoanAmount  Loan_Amount_Term  \\\n",
            "0             5849                0.0         NaN             360.0   \n",
            "1             4583             1508.0       128.0             360.0   \n",
            "2             3000                0.0        66.0             360.0   \n",
            "3             2583             2358.0       120.0             360.0   \n",
            "4             6000                0.0       141.0             360.0   \n",
            "\n",
            "   Credit_History  Loan_Status  Property_Area_Semiurban  Property_Area_Urban  \n",
            "0             1.0            1                    False                 True  \n",
            "1             1.0            0                    False                False  \n",
            "2             1.0            1                    False                 True  \n",
            "3             1.0            1                    False                 True  \n",
            "4             1.0            1                    False                 True  \n"
          ]
        }
      ]
    },
    {
      "cell_type": "code",
      "source": [
        "# 5) Handle missing values\n",
        "num_cols = df.select_dtypes(include=[np.number]).columns.tolist()\n",
        "num_cols.remove(\"Loan_Status\")\n",
        "imputer = SimpleImputer(strategy=\"median\")\n",
        "df[num_cols] = imputer.fit_transform(df[num_cols])\n",
        "\n"
      ],
      "metadata": {
        "id": "_-h56soAEEOC"
      },
      "execution_count": 19,
      "outputs": []
    },
    {
      "cell_type": "code",
      "source": [
        "\n",
        "# numeric columns already imputed\n",
        "# some object cols may still exist -> we’ll OHE them now\n",
        "# Drop Loan_ID\n",
        "\n",
        "\n",
        "# 6) Drop identifier-like columns (case-insensitive)\n",
        "id_like = [c for c in df.columns if c.lower() in [\"Loan_ID\", \"ID\"]]\n",
        "df = df.drop(columns=id_like, errors=\"ignore\")\n",
        "\n",
        "# 7) One-hot any remaining object columns (excluding target)\n",
        "obj_cols = [c for c in df.columns if df[c].dtype == \"object\" and c != \"Loan_Status\"]\n",
        "if obj_cols:\n",
        "    df = pd.get_dummies(df, columns=obj_cols, drop_first=True)\n",
        "\n",
        "# 8) ensure all features are numeric\n",
        "_non_numeric = [c for c in df.columns if c != \"Loan_Status\" and not pd.api.types.is_numeric_dtype(df[c])]\n",
        "assert not _non_numeric, f\"Non-numeric columns remain: {_non_numeric}\"\n",
        "\n",
        "\n",
        "# Split\n",
        "\n",
        "X = df.drop(columns=[\"Loan_Status\"])\n",
        "y = df[\"Loan_Status\"].astype(int)\n",
        "\n",
        "X_train, X_test, y_train, y_test = train_test_split(\n",
        "    X, y, test_size=0.20, random_state=42, stratify=y\n",
        ")\n",
        "\n",
        "\n",
        "# Logistic Regression (scaled)\n",
        "\n",
        "logreg = Pipeline(steps=[\n",
        "    (\"scaler\", StandardScaler(with_mean=False)),  # safe if many sparse OHE cols\n",
        "    (\"clf\", LogisticRegression(max_iter=200, class_weight=\"balanced\", solver=\"liblinear\"))\n",
        "])\n",
        "logreg.fit(X_train, y_train)\n",
        "pred_lr  = logreg.predict(X_test)\n",
        "proba_lr = logreg.predict_proba(X_test)[:, 1]\n",
        "\n",
        "print(\"\\n=== Logistic Regression ===\")\n",
        "print(\"Accuracy:\", round(accuracy_score(y_test, pred_lr), 4))\n",
        "print(\"ROC AUC:\", round(roc_auc_score(y_test, proba_lr), 4))\n",
        "print(\"\\nClassification report:\\n\", classification_report(y_test, pred_lr, digits=4))\n",
        "print(\"Confusion matrix:\\n\", confusion_matrix(y_test, pred_lr))\n"
      ],
      "metadata": {
        "colab": {
          "base_uri": "https://localhost:8080/"
        },
        "id": "ly_Wj5FNJR9Z",
        "outputId": "49274cfc-508b-47a3-8da2-ae34811d6e81"
      },
      "execution_count": 20,
      "outputs": [
        {
          "output_type": "stream",
          "name": "stdout",
          "text": [
            "\n",
            "=== Logistic Regression ===\n",
            "Accuracy: 0.8537\n",
            "ROC AUC: 0.8477\n",
            "\n",
            "Classification report:\n",
            "               precision    recall  f1-score   support\n",
            "\n",
            "           0     0.9545    0.5526    0.7000        38\n",
            "           1     0.8317    0.9882    0.9032        85\n",
            "\n",
            "    accuracy                         0.8537       123\n",
            "   macro avg     0.8931    0.7704    0.8016       123\n",
            "weighted avg     0.8696    0.8537    0.8404       123\n",
            "\n",
            "Confusion matrix:\n",
            " [[21 17]\n",
            " [ 1 84]]\n"
          ]
        }
      ]
    },
    {
      "cell_type": "code",
      "source": [
        "# Stronger model: Random Forest\n",
        "\n",
        "rf = RandomForestClassifier(\n",
        "    n_estimators=500,\n",
        "    min_samples_split=4,\n",
        "    min_samples_leaf=2,\n",
        "    class_weight=\"balanced_subsample\",\n",
        "    random_state=42,\n",
        "    n_jobs=-1\n",
        ")\n",
        "rf.fit(X_train, y_train)\n",
        "pred_rf  = rf.predict(X_test)\n",
        "proba_rf = rf.predict_proba(X_test)[:, 1]\n",
        "\n",
        "print(\"\\n=== Random Forest ===\")\n",
        "print(\"Accuracy:\", round(accuracy_score(y_test, pred_rf), 4))\n",
        "print(\"ROC AUC:\", round(roc_auc_score(y_test, proba_rf), 4))\n",
        "print(\"\\nClassification report:\\n\", classification_report(y_test, pred_rf, digits=4))\n",
        "print(\"Confusion matrix:\\n\", confusion_matrix(y_test, pred_rf))"
      ],
      "metadata": {
        "colab": {
          "base_uri": "https://localhost:8080/"
        },
        "id": "Gy9e4BLoW4la",
        "outputId": "9d0c45db-6a48-483b-deb6-babdc7500795"
      },
      "execution_count": 21,
      "outputs": [
        {
          "output_type": "stream",
          "name": "stdout",
          "text": [
            "\n",
            "=== Random Forest ===\n",
            "Accuracy: 0.7967\n",
            "ROC AUC: 0.822\n",
            "\n",
            "Classification report:\n",
            "               precision    recall  f1-score   support\n",
            "\n",
            "           0     0.6757    0.6579    0.6667        38\n",
            "           1     0.8488    0.8588    0.8538        85\n",
            "\n",
            "    accuracy                         0.7967       123\n",
            "   macro avg     0.7623    0.7584    0.7602       123\n",
            "weighted avg     0.7953    0.7967    0.7960       123\n",
            "\n",
            "Confusion matrix:\n",
            " [[25 13]\n",
            " [12 73]]\n"
          ]
        }
      ]
    },
    {
      "cell_type": "code",
      "source": [
        "# Quick CV sanity check (ROC AUC)\n",
        "cv_scores = cross_val_score(rf, X, y, cv=5, scoring=\"roc_auc\", n_jobs=-1)\n",
        "print(\"\\nRF 5-fold ROC AUC (mean ± std):\", f\"{cv_scores.mean():.4f} ± {cv_scores.std():.4f}\")\n",
        "\n",
        "\n",
        "# ROC curves\n",
        "\n",
        "plt.figure()\n",
        "RocCurveDisplay.from_predictions(y_test, proba_lr, name=\"LogReg\")\n",
        "RocCurveDisplay.from_predictions(y_test, proba_rf, name=\"RandomForest\")\n",
        "plt.title(\"ROC Curves\")\n",
        "plt.show()\n"
      ],
      "metadata": {
        "colab": {
          "base_uri": "https://localhost:8080/",
          "height": 960
        },
        "id": "0m6lkf_GXCNs",
        "outputId": "147b7352-07fd-4cc2-939e-f2137eb603a7"
      },
      "execution_count": 22,
      "outputs": [
        {
          "output_type": "stream",
          "name": "stdout",
          "text": [
            "\n",
            "RF 5-fold ROC AUC (mean ± std): 0.7605 ± 0.0334\n"
          ]
        },
        {
          "output_type": "display_data",
          "data": {
            "text/plain": [
              "<Figure size 640x480 with 0 Axes>"
            ]
          },
          "metadata": {}
        },
        {
          "output_type": "display_data",
          "data": {
            "text/plain": [
              "<Figure size 640x480 with 1 Axes>"
            ],
            "image/png": "[encoded data removed]"
          },
          "metadata": {}
        },
        {
          "output_type": "display_data",
          "data": {
            "text/plain": [
              "<Figure size 640x480 with 1 Axes>"
            ],
            "image/png": "[encoded data removed]"
          },
          "metadata": {}
        }
      ]
    },
    {
      "cell_type": "code",
      "source": [
        "# Feature importance (RF)\n",
        "\n",
        "importances = pd.Series(rf.feature_importances_, index=X.columns).sort_values(ascending=False)\n",
        "print(\"\\nTop 15 features by importance:\\n\", importances.head(15))\n",
        "\n",
        "\n",
        "# Persist artifacts\n",
        "\n",
        "joblib.dump(logreg, \"/content/model_logreg_pipeline.joblib\")\n",
        "joblib.dump(rf, \"/content/model_random_forest.joblib\")\n",
        "print(\"\\nSaved: /content/model_logreg_pipeline.joblib, /content/model_random_forest.joblib\")\n",
        "\n"
      ],
      "metadata": {
        "colab": {
          "base_uri": "https://localhost:8080/"
        },
        "id": "eyBzFOWCXKkH",
        "outputId": "dd7c94de-e640-4b68-b9fb-41683f630d80"
      },
      "execution_count": 23,
      "outputs": [
        {
          "output_type": "stream",
          "name": "stdout",
          "text": [
            "\n",
            "Top 15 features by importance:\n",
            " Credit_History             0.166812\n",
            "ApplicantIncome            0.134361\n",
            "LoanAmount                 0.128236\n",
            "CoapplicantIncome          0.083919\n",
            "Property_Area_Semiurban    0.081719\n",
            "Loan_Amount_Term           0.069298\n",
            "Gender                     0.051079\n",
            "Dependents_3+              0.049239\n",
            "Education                  0.044903\n",
            "Married                    0.041349\n",
            "Self_Employed              0.040163\n",
            "Dependents_1               0.038979\n",
            "Dependents_2               0.036353\n",
            "Property_Area_Urban        0.033592\n",
            "Loan_ID_LP002305           0.000000\n",
            "dtype: float64\n",
            "\n",
            "Saved: /content/model_logreg_pipeline.joblib, /content/model_random_forest.joblib\n"
          ]
        }
      ]
    },
    {
      "cell_type": "code",
      "source": [
        "!pip -q install streamlit pyngrok joblib\n",
        "\n",
        "# Kill previous ngrok/streamlit (safe no-ops if not running)\n",
        "!pkill -f ngrok || true\n",
        "!pkill -f streamlit || true\n"
      ],
      "metadata": {
        "colab": {
          "base_uri": "https://localhost:8080/"
        },
        "id": "-STPM9kCFiFz",
        "outputId": "07c484fd-5d7f-49d5-e6c5-baef9f852ccb"
      },
      "execution_count": 11,
      "outputs": [
        {
          "output_type": "stream",
          "name": "stdout",
          "text": [
            "^C\n",
            "^C\n"
          ]
        }
      ]
    },
    {
      "cell_type": "code",
      "source": [
        "%%writefile /content/app.py\n",
        "import joblib\n",
        "import numpy as np\n",
        "import pandas as pd\n",
        "import streamlit as st\n",
        "\n",
        "\n",
        "MODEL_PATH = \"/content/model_random_forest.joblib\"\n",
        "mdl = joblib.load(MODEL_PATH)\n",
        "\n",
        "def get_feature_cols(model):\n",
        "    if hasattr(model, \"feature_names_in_\"):\n",
        "        return list(model.feature_names_in_)\n",
        "    if hasattr(model, \"named_steps\"):\n",
        "        for _, step in model.named_steps.items():\n",
        "            if hasattr(step, \"feature_names_in_\"):\n",
        "                return list(step.feature_names_in_)\n",
        "    return []\n",
        "\n",
        "FEATURE_COLS = get_feature_cols(mdl)\n",
        "if not FEATURE_COLS:\n",
        "    st.error(\"Model is missing feature_names_in_. Refit the model using a pandas DataFrame.\")\n",
        "    st.stop()\n",
        "\n",
        "# Top features\n",
        "TOP_FEATURES = [\n",
        "    \"Credit_History\",\n",
        "    \"ApplicantIncome\",\n",
        "    \"LoanAmount\",\n",
        "    \"CoapplicantIncome\",\n",
        "    \"Property_Area_Semiurban\",\n",
        "    \"Loan_Amount_Term\",\n",
        "    \"Gender\",\n",
        "    \"Dependents_3+\",\n",
        "    \"Education\",\n",
        "    \"Married\",\n",
        "    \"Self_Employed\",\n",
        "    \"Dependents_1\",\n",
        "    \"Dependents_2\",\n",
        "    \"Property_Area_Urban\"\n",
        "\n",
        "]\n",
        "\n",
        "# UI\n",
        "st.set_page_config(page_title=\"Loan Approval (Top Features)\", page_icon=\"💳\", layout=\"centered\")\n",
        "st.title(\"💳 Loan Approval Predictor — Top Features\")\n",
        "st.caption(\"Inputs limited to the strongest predictors. Other model features default to 0.\")\n",
        "\n",
        "with st.form(\"loan_form\"):\n",
        "    col1, col2 = st.columns(2)\n",
        "\n",
        "    with col1:\n",
        "        credit_history = st.selectbox(\"Credit_History\", [1.0, 0.0], index=0)\n",
        "        applicant_income = st.number_input(\"ApplicantIncome\", min_value=0.0, step=100.0)\n",
        "        loan_amount = st.number_input(\"LoanAmount\", min_value=0.0, step=1.0)\n",
        "        coapplicant_income = st.number_input(\"CoapplicantIncome\", min_value=0.0, step=100.0)\n",
        "        loan_amount_term = st.number_input(\"Loan_Amount_Term (months)\", min_value=0.0, step=6.0)\n",
        "\n",
        "    with col2:\n",
        "        gender = st.selectbox(\"Gender\", [\"Male\", \"Female\"])\n",
        "        married = st.selectbox(\"Married\", [\"Yes\", \"No\"])\n",
        "        education = st.selectbox(\"Education\", [\"Graduate\", \"Not Graduate\"])\n",
        "        self_employed = st.selectbox(\"Self_Employed\", [\"No\", \"Yes\"])\n",
        "        dependents = st.selectbox(\"Dependents\", [\"0\", \"1\", \"2\", \"3+\"])\n",
        "\n",
        "    property_area = st.selectbox(\"Property_Area\", [\"Rural\", \"Semiurban\", \"Urban\"], index=1)\n",
        "    submitted = st.form_submit_button(\"Predict\")\n",
        "\n",
        "# Build aligned feature vector from top-features UI\n",
        "def build_row_from_inputs():\n",
        "    # Start with zeros for ALL model features\n",
        "    row = pd.Series(0, index=FEATURE_COLS, dtype=\"float64\")\n",
        "\n",
        "    # Direct numeric features\n",
        "    if \"Credit_History\" in row.index:        row[\"Credit_History\"] = float(credit_history)\n",
        "    if \"ApplicantIncome\" in row.index:       row[\"ApplicantIncome\"] = float(applicant_income)\n",
        "    if \"LoanAmount\" in row.index:            row[\"LoanAmount\"] = float(loan_amount)\n",
        "    if \"CoapplicantIncome\" in row.index:     row[\"CoapplicantIncome\"] = float(coapplicant_income)\n",
        "    if \"Loan_Amount_Term\" in row.index:      row[\"Loan_Amount_Term\"] = float(loan_amount_term)\n",
        "\n",
        "    # Binary maps\n",
        "    if \"Gender\" in row.index:\n",
        "        row[\"Gender\"] = 1.0 if gender in [\"Male\", \"M\"] else 0.0\n",
        "    if \"Married\" in row.index:\n",
        "        row[\"Married\"] = 1.0 if married == \"Yes\" else 0.0\n",
        "    if \"Education\" in row.index:\n",
        "        row[\"Education\"] = 1.0 if education == \"Graduate\" else 0.0\n",
        "    if \"Self_Employed\" in row.index:\n",
        "        row[\"Self_Employed\"] = 1.0 if self_employed == \"Yes\" else 0.0\n",
        "\n",
        "    # Dependents dummies: base = \"0\"\n",
        "    # Expected columns from your training: Dependents_1, Dependents_2, Dependents_3+\n",
        "    dep_map = {\"1\": \"Dependents_1\", \"2\": \"Dependents_2\", \"3+\": \"Dependents_3+\"}\n",
        "    if dependents in dep_map and dep_map[dependents] in row.index:\n",
        "        row[dep_map[dependents]] = 1.0\n",
        "    # else \"0\" case: keep all zeros\n",
        "\n",
        "    # Property_Area dummies: base = \"Rural\"\n",
        "    # Expected columns: Property_Area_Semiurban, Property_Area_Urban\n",
        "    if property_area == \"Semiurban\" and \"Property_Area_Semiurban\" in row.index:\n",
        "        row[\"Property_Area_Semiurban\"] = 1.0\n",
        "    elif property_area == \"Urban\" and \"Property_Area_Urban\" in row.index:\n",
        "        row[\"Property_Area_Urban\"] = 1.0\n",
        "    # else Rural: keep zeros\n",
        "\n",
        "    return pd.DataFrame([row])\n",
        "\n",
        "# Predict\n",
        "if submitted:\n",
        "    try:\n",
        "        X = build_row_from_inputs()\n",
        "        # predict_proba if available\n",
        "        if hasattr(mdl, \"predict_proba\"):\n",
        "            proba = float(mdl.predict_proba(X)[:, 1][0])\n",
        "        else:\n",
        "            score = float(getattr(mdl, \"decision_function\", mdl.predict)(X)[0])\n",
        "            proba = 1 / (1 + np.exp(-score)) if not (0 <= score <= 1) else score\n",
        "\n",
        "        label = \"Approved\" if proba >= 0.5 else \"Not Approved\"\n",
        "        st.subheader(label)\n",
        "        st.metric(\"Approval Probability\", f\"{proba:.3f}\")\n",
        "\n",
        "        with st.expander(\"Debug: model feature vector\"):\n",
        "            st.write(X.T.rename(columns={0: \"value\"}))\n",
        "\n",
        "        # Show top features for transparency if model is RF\n",
        "        if hasattr(mdl, \"feature_importances_\"):\n",
        "            st.subheader(\"Top Features by Importance\")\n",
        "            importances = pd.Series(mdl.feature_importances_, index=FEATURE_COLS)\n",
        "            top = importances.sort_values(ascending=False).head(15)\n",
        "            st.bar_chart(top.sort_values())  # Streamlit bar chart (horizontal via sort)\n",
        "\n",
        "    except Exception as e:\n",
        "        st.error(f\"Prediction failed: {e}\")\n"
      ],
      "metadata": {
        "colab": {
          "base_uri": "https://localhost:8080/"
        },
        "id": "b6tPXlniGUC1",
        "outputId": "70aae05a-6e19-4d70-d3ca-da974101dacf"
      },
      "execution_count": 13,
      "outputs": [
        {
          "output_type": "stream",
          "name": "stdout",
          "text": [
            "Overwriting /content/app.py\n"
          ]
        }
      ]
    },
    {
      "cell_type": "code",
      "source": [
        "\n",
        "# Launch Streamlit + ngrok (Colab)\n",
        "\n",
        "!pip -q install streamlit pyngrok joblib requests >/dev/null\n",
        "\n",
        "import os, time, threading, requests, sys\n",
        "from pyngrok import ngrok\n",
        "\n",
        "\n",
        "assert os.path.exists(\"/content/app.py\"), \"app.py not found at /content/app.py\"\n",
        "\n",
        "!pkill -f streamlit || true\n",
        "!pkill -f ngrok || true\n",
        "\n",
        "# ngrok auth\n",
        "NGROK_AUTH_TOKEN = \"33f8FfDyBPdj8xZ1ki3L73bPYDi_7W2nJ3bv5AD5tr7VAHSfa\"\n",
        "os.system(f\"ngrok config add-authtoken {NGROK_AUTH_TOKEN}\")\n",
        "\n",
        "# Start Streamlit (0.0.0.0:8501)\n",
        "def run_streamlit():\n",
        "    cmd = (\n",
        "        \"streamlit run /content/app.py \"\n",
        "        \"--server.address 0.0.0.0 \"\n",
        "        \"--server.port 8501 \"\n",
        "        \"--server.headless true \"\n",
        "        \"--server.enableCORS false \"\n",
        "        \"--server.enableXsrfProtection false \"\n",
        "        \"--browser.gatherUsageStats false \"\n",
        "        \"--server.fileWatcherType none\"\n",
        "    )\n",
        "    os.system(cmd)\n",
        "\n",
        "thread = threading.Thread(target=run_streamlit, daemon=True)\n",
        "thread.start()\n",
        "\n",
        "# check\n",
        "def wait_for_streamlit(timeout=60):\n",
        "    url = \"http://localhost:8501/_stcore/health\"\n",
        "    start = time.time()\n",
        "    while time.time() - start < timeout:\n",
        "        try:\n",
        "            r = requests.get(url, timeout=2)\n",
        "            if r.status_code == 200:\n",
        "                return True\n",
        "        except Exception:\n",
        "            pass\n",
        "        time.sleep(1)\n",
        "    return False\n",
        "\n",
        "print(\"⏳ Waiting for Streamlit to start...\")\n",
        "if not wait_for_streamlit():\n",
        "    print(\"Streamlit did not start within timeout. Check the app logs.\", file=sys.stderr)\n",
        "else:\n",
        "    public_url = ngrok.connect(8501, \"http\")\n",
        "    print(\"Your Streamlit app is live:\", public_url)\n"
      ],
      "metadata": {
        "colab": {
          "base_uri": "https://localhost:8080/"
        },
        "id": "gfo9q8FCJWrM",
        "outputId": "98c2e1d1-edc1-47d7-ceb6-bbb98bdf1278"
      },
      "execution_count": 24,
      "outputs": [
        {
          "output_type": "stream",
          "name": "stdout",
          "text": [
            "^C\n",
            "^C\n",
            "⏳ Waiting for Streamlit to start...\n",
            "Your Streamlit app is live: NgrokTunnel: \"https://pseudobrotherly-acritical-valeria.ngrok-free.dev\" -> \"http://localhost:8501\"\n"
          ]
        }
      ]
    }
  ]
}